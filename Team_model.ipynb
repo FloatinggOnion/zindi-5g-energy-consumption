{
  "nbformat": 4,
  "nbformat_minor": 0,
  "metadata": {
    "colab": {
      "provenance": []
    },
    "kernelspec": {
      "name": "python3",
      "display_name": "Python 3"
    },
    "language_info": {
      "name": "python"
    }
  },
  "cells": [
    {
      "cell_type": "markdown",
      "source": [
        "## Imports"
      ],
      "metadata": {
        "id": "50uG2yVfyKgb"
      }
    },
    {
      "cell_type": "code",
      "source": [
        "pip install catboost"
      ],
      "metadata": {
        "id": "kRctq_Itpz5A",
        "outputId": "9e25ae12-e6b9-4da4-a1cb-9d62307bf5fa",
        "colab": {
          "base_uri": "https://localhost:8080/"
        }
      },
      "execution_count": 160,
      "outputs": [
        {
          "output_type": "stream",
          "name": "stdout",
          "text": [
            "Requirement already satisfied: catboost in /usr/local/lib/python3.10/dist-packages (1.2.1)\n",
            "Requirement already satisfied: graphviz in /usr/local/lib/python3.10/dist-packages (from catboost) (0.20.1)\n",
            "Requirement already satisfied: matplotlib in /usr/local/lib/python3.10/dist-packages (from catboost) (3.7.1)\n",
            "Requirement already satisfied: numpy>=1.16.0 in /usr/local/lib/python3.10/dist-packages (from catboost) (1.23.5)\n",
            "Requirement already satisfied: pandas>=0.24 in /usr/local/lib/python3.10/dist-packages (from catboost) (1.5.3)\n",
            "Requirement already satisfied: scipy in /usr/local/lib/python3.10/dist-packages (from catboost) (1.11.2)\n",
            "Requirement already satisfied: plotly in /usr/local/lib/python3.10/dist-packages (from catboost) (5.15.0)\n",
            "Requirement already satisfied: six in /usr/local/lib/python3.10/dist-packages (from catboost) (1.16.0)\n",
            "Requirement already satisfied: python-dateutil>=2.8.1 in /usr/local/lib/python3.10/dist-packages (from pandas>=0.24->catboost) (2.8.2)\n",
            "Requirement already satisfied: pytz>=2020.1 in /usr/local/lib/python3.10/dist-packages (from pandas>=0.24->catboost) (2023.3.post1)\n",
            "Requirement already satisfied: contourpy>=1.0.1 in /usr/local/lib/python3.10/dist-packages (from matplotlib->catboost) (1.1.0)\n",
            "Requirement already satisfied: cycler>=0.10 in /usr/local/lib/python3.10/dist-packages (from matplotlib->catboost) (0.11.0)\n",
            "Requirement already satisfied: fonttools>=4.22.0 in /usr/local/lib/python3.10/dist-packages (from matplotlib->catboost) (4.42.1)\n",
            "Requirement already satisfied: kiwisolver>=1.0.1 in /usr/local/lib/python3.10/dist-packages (from matplotlib->catboost) (1.4.5)\n",
            "Requirement already satisfied: packaging>=20.0 in /usr/local/lib/python3.10/dist-packages (from matplotlib->catboost) (23.1)\n",
            "Requirement already satisfied: pillow>=6.2.0 in /usr/local/lib/python3.10/dist-packages (from matplotlib->catboost) (9.4.0)\n",
            "Requirement already satisfied: pyparsing>=2.3.1 in /usr/local/lib/python3.10/dist-packages (from matplotlib->catboost) (3.1.1)\n",
            "Requirement already satisfied: tenacity>=6.2.0 in /usr/local/lib/python3.10/dist-packages (from plotly->catboost) (8.2.3)\n"
          ]
        }
      ]
    },
    {
      "cell_type": "code",
      "source": [
        "pip install pyupset"
      ],
      "metadata": {
        "id": "58UW5lfmrq96",
        "outputId": "deb32bee-8e17-487d-b255-c00ea2ecb892",
        "colab": {
          "base_uri": "https://localhost:8080/"
        }
      },
      "execution_count": null,
      "outputs": [
        {
          "output_type": "stream",
          "name": "stdout",
          "text": [
            "Requirement already satisfied: pyupset in /usr/local/lib/python3.10/dist-packages (0.1.1.post7)\n",
            "Requirement already satisfied: pandas in /usr/local/lib/python3.10/dist-packages (from pyupset) (1.5.3)\n",
            "Requirement already satisfied: matplotlib in /usr/local/lib/python3.10/dist-packages (from pyupset) (3.7.1)\n",
            "Requirement already satisfied: numpy in /usr/local/lib/python3.10/dist-packages (from pyupset) (1.23.5)\n",
            "Requirement already satisfied: contourpy>=1.0.1 in /usr/local/lib/python3.10/dist-packages (from matplotlib->pyupset) (1.1.0)\n",
            "Requirement already satisfied: cycler>=0.10 in /usr/local/lib/python3.10/dist-packages (from matplotlib->pyupset) (0.11.0)\n",
            "Requirement already satisfied: fonttools>=4.22.0 in /usr/local/lib/python3.10/dist-packages (from matplotlib->pyupset) (4.42.1)\n",
            "Requirement already satisfied: kiwisolver>=1.0.1 in /usr/local/lib/python3.10/dist-packages (from matplotlib->pyupset) (1.4.5)\n",
            "Requirement already satisfied: packaging>=20.0 in /usr/local/lib/python3.10/dist-packages (from matplotlib->pyupset) (23.1)\n",
            "Requirement already satisfied: pillow>=6.2.0 in /usr/local/lib/python3.10/dist-packages (from matplotlib->pyupset) (9.4.0)\n",
            "Requirement already satisfied: pyparsing>=2.3.1 in /usr/local/lib/python3.10/dist-packages (from matplotlib->pyupset) (3.1.1)\n",
            "Requirement already satisfied: python-dateutil>=2.7 in /usr/local/lib/python3.10/dist-packages (from matplotlib->pyupset) (2.8.2)\n",
            "Requirement already satisfied: pytz>=2020.1 in /usr/local/lib/python3.10/dist-packages (from pandas->pyupset) (2023.3.post1)\n",
            "Requirement already satisfied: six>=1.5 in /usr/local/lib/python3.10/dist-packages (from python-dateutil>=2.7->matplotlib->pyupset) (1.16.0)\n"
          ]
        }
      ]
    },
    {
      "cell_type": "code",
      "source": [
        "!pip install upsetplot"
      ],
      "metadata": {
        "id": "V3uakFyNsPl-"
      },
      "execution_count": null,
      "outputs": []
    },
    {
      "cell_type": "code",
      "execution_count": null,
      "metadata": {
        "id": "cccWMxZWvQF6"
      },
      "outputs": [],
      "source": [
        "import gc\n",
        "import os\n",
        "import itertools\n",
        "import pickle\n",
        "import re\n",
        "import time\n",
        "\n",
        "import warnings\n",
        "warnings.filterwarnings('ignore')\n",
        "\n",
        "from random import choice, choices\n",
        "from functools import reduce\n",
        "from tqdm import tqdm\n",
        "from itertools import cycle\n",
        "\n",
        "import numpy as np\n",
        "import pandas as pd\n",
        "import seaborn as sns\n",
        "import matplotlib.pyplot as plt\n",
        "from matplotlib_venn import venn2\n",
        "from upsetplot import UpSet\n",
        "%matplotlib inline\n",
        "\n",
        "from functools import reduce\n",
        "from tqdm import tqdm\n",
        "from itertools import cycle\n",
        "from scipy import stats\n",
        "from sklearn import metrics\n",
        "from sklearn import model_selection\n",
        "from sklearn import preprocessing\n",
        "from sklearn import linear_model\n",
        "from sklearn import ensemble\n",
        "from sklearn import decomposition\n",
        "from sklearn import tree\n",
        "\n",
        "\n",
        "from catboost import CatBoostRegressor, Pool\n",
        "\n",
        "pd.set_option(\"display.max_columns\", None)\n",
        "\n",
        "plt.style.use(\"ggplot\")\n",
        "color_pal = plt.rcParams[\"axes.prop_cycle\"].by_key()[\"color\"]\n",
        "color_cycle = cycle(plt.rcParams[\"axes.prop_cycle\"].by_key()[\"color\"])"
      ]
    },
    {
      "cell_type": "markdown",
      "source": [
        "## Data Loading"
      ],
      "metadata": {
        "id": "I_2K_hVCyX7O"
      }
    },
    {
      "cell_type": "code",
      "source": [
        "pcp_df = pd.read_csv(\"/content/imgs_202307101549519358.csv\")\n",
        "cl_df = pd.read_csv(\"/content/imgs_2023071012130978799.csv\")\n",
        "bs_df = pd.read_csv(\"/content/imgs_2023071012123392536.csv\")\n",
        "ec_df  = pd.read_csv(\"/content/imgs_2023071012133740345.csv\")\n",
        "ss_df = pd.read_csv(\"/content/SampleSubmission (2).csv\")\n",
        "\n",
        "pcp_df.shape, cl_df.shape, bs_df.shape, ec_df.shape, ss_df.shape"
      ],
      "metadata": {
        "id": "59v8MAMIyUjv"
      },
      "execution_count": null,
      "outputs": []
    },
    {
      "cell_type": "code",
      "source": [
        "ec_df.head()"
      ],
      "metadata": {
        "id": "hSl1oUcVag1d"
      },
      "execution_count": null,
      "outputs": []
    },
    {
      "cell_type": "code",
      "source": [
        "cl_df.head()"
      ],
      "metadata": {
        "id": "AACxsj2Oabnu"
      },
      "execution_count": null,
      "outputs": []
    },
    {
      "cell_type": "code",
      "source": [
        "bs_df.head()"
      ],
      "metadata": {
        "id": "hDLtXVblaudo"
      },
      "execution_count": null,
      "outputs": []
    },
    {
      "cell_type": "code",
      "source": [
        "pcp_df.head()"
      ],
      "metadata": {
        "id": "9N6qFuX1ltKf"
      },
      "execution_count": null,
      "outputs": []
    },
    {
      "cell_type": "code",
      "source": [
        "pcp_df['w'].value_counts()"
      ],
      "metadata": {
        "id": "5oUtMipM_Rxp"
      },
      "execution_count": null,
      "outputs": []
    },
    {
      "cell_type": "markdown",
      "source": [
        "## Data Pre-Processing"
      ],
      "metadata": {
        "id": "RNNgRWqc0ISP"
      }
    },
    {
      "cell_type": "code",
      "source": [
        "def rename_columns(df):\n",
        "    df.rename(columns=lambda x: x.lower().replace(' ', '_'), inplace=True)\n",
        "    return df"
      ],
      "metadata": {
        "id": "KfsLkiRnkdU4"
      },
      "execution_count": null,
      "outputs": []
    },
    {
      "cell_type": "code",
      "source": [
        "pcp_df = rename_columns(pcp_df)\n",
        "cl_df = rename_columns(cl_df)\n",
        "bs_df = rename_columns(bs_df)\n",
        "ec_df = rename_columns(ec_df)"
      ],
      "metadata": {
        "id": "1GH9TPe_LKt9"
      },
      "execution_count": null,
      "outputs": []
    },
    {
      "cell_type": "code",
      "source": [
        "cl_df.head()"
      ],
      "metadata": {
        "id": "PkrEYD2KktvO"
      },
      "execution_count": null,
      "outputs": []
    },
    {
      "cell_type": "code",
      "source": [
        "bs_df.head()"
      ],
      "metadata": {
        "id": "Xls4lh6dlVty"
      },
      "execution_count": null,
      "outputs": []
    },
    {
      "cell_type": "code",
      "source": [
        "ec_df.head()"
      ],
      "metadata": {
        "id": "WruClWpx6rYF"
      },
      "execution_count": null,
      "outputs": []
    },
    {
      "cell_type": "code",
      "source": [
        "pcp_df.head()"
      ],
      "metadata": {
        "id": "9spWqHjE6reZ"
      },
      "execution_count": null,
      "outputs": []
    },
    {
      "cell_type": "code",
      "source": [
        "train_bs_set = set(ec_df['bs'].values.tolist())\n",
        "test_bs_set = set(pcp_df['bs'].values.tolist())\n",
        "\n",
        "venn2([train_bs_set, test_bs_set], ('Train BS', 'Test BS'))\n",
        "plt.show()"
      ],
      "metadata": {
        "id": "kIZZf6vksMyT"
      },
      "execution_count": null,
      "outputs": []
    },
    {
      "cell_type": "code",
      "source": [
        "cl_df['time'] = pd.to_datetime(cl_df['time'])\n",
        "ec_df['time'] = pd.to_datetime(ec_df['time'])\n",
        "pcp_df['time'] = pd.to_datetime(pcp_df['time'])"
      ],
      "metadata": {
        "id": "2plNGJZ1zxRW"
      },
      "execution_count": null,
      "outputs": []
    },
    {
      "cell_type": "code",
      "source": [
        "data = {\n",
        "    'Train BS': train_bs_set,\n",
        "    'Test BS': test_bs_set\n",
        "}\n"
      ],
      "metadata": {
        "id": "UOwdtlaEske7"
      },
      "execution_count": null,
      "outputs": []
    },
    {
      "cell_type": "code",
      "source": [
        "cl_bs_df = cl_df.merge(bs_df, on=['bs', 'cellname'], how='left')\n",
        "cl_bs_df.head()"
      ],
      "metadata": {
        "id": "23dMKioikMIv"
      },
      "execution_count": null,
      "outputs": []
    },
    {
      "cell_type": "code",
      "source": [
        "cl_bs_df[cl_bs_df['bs'] == 'B_0']"
      ],
      "metadata": {
        "id": "1fOsvwR-BdgP"
      },
      "execution_count": null,
      "outputs": []
    },
    {
      "cell_type": "code",
      "source": [
        "cl_bs_df.groupby(\"bs\")['cellname'].nunique()"
      ],
      "metadata": {
        "id": "Dv0nJYPQ7dKL"
      },
      "execution_count": null,
      "outputs": []
    },
    {
      "cell_type": "code",
      "source": [
        "cl_bs_df.groupby(\"bs\")['cellname'].nunique().value_counts()"
      ],
      "metadata": {
        "id": "p_oQk2ms7oSV"
      },
      "execution_count": null,
      "outputs": []
    },
    {
      "cell_type": "code",
      "source": [
        "ec_df.head()"
      ],
      "metadata": {
        "id": "1gdEhGaAUmgz"
      },
      "execution_count": null,
      "outputs": []
    },
    {
      "cell_type": "code",
      "source": [
        "cl_bs_df.head()"
      ],
      "metadata": {
        "id": "GkHBZ3347Gq8"
      },
      "execution_count": null,
      "outputs": []
    },
    {
      "cell_type": "code",
      "source": [
        "cl_bs_df = cl_bs_df.pivot(\n",
        "    index=['time', 'bs'],\n",
        "    columns=['cellname'],\n",
        "    values=['load', 'esmode1', 'esmode2', 'esmode3',\n",
        "       'esmode4', 'esmode5', 'esmode6', 'frequency',\n",
        "       'bandwidth', 'antennas', 'txpower'],\n",
        ").reset_index()\n",
        "\n",
        "cl_bs_df.columns = ['_'.join([str(i) for i in x]) for x in cl_bs_df.columns]\n",
        "cl_bs_df.columns = cl_bs_df.columns.str.strip('_')\n",
        "cl_bs_df = rename_columns(cl_bs_df)\n",
        "cl_bs_df = cl_bs_df.merge(bs_df.groupby('bs')[['rutype', 'mode']].first().reset_index(), on='bs', how='left')"
      ],
      "metadata": {
        "id": "r-bPpGsqiU4r"
      },
      "execution_count": null,
      "outputs": []
    },
    {
      "cell_type": "code",
      "source": [
        "cl_bs_df.head()"
      ],
      "metadata": {
        "id": "duCfiZFtphSQ"
      },
      "execution_count": null,
      "outputs": []
    },
    {
      "cell_type": "code",
      "source": [
        "cl_bs_df.describe()"
      ],
      "metadata": {
        "id": "yIDpvc3_iSWS"
      },
      "execution_count": null,
      "outputs": []
    },
    {
      "cell_type": "code",
      "source": [
        "ec_df.head()"
      ],
      "metadata": {
        "id": "D6sWkC6kQCWl"
      },
      "execution_count": null,
      "outputs": []
    },
    {
      "cell_type": "code",
      "source": [
        "df = cl_bs_df.merge(ec_df, on=['time', 'bs'], how='left')"
      ],
      "metadata": {
        "id": "fNVI_hC3iQpc"
      },
      "execution_count": null,
      "outputs": []
    },
    {
      "cell_type": "code",
      "source": [
        "df.head()"
      ],
      "metadata": {
        "id": "TRUXadtZRFFS"
      },
      "execution_count": null,
      "outputs": []
    },
    {
      "cell_type": "code",
      "source": [
        "df['energy'].isna().value_counts()"
      ],
      "metadata": {
        "id": "chfav12ztf94"
      },
      "execution_count": null,
      "outputs": []
    },
    {
      "cell_type": "code",
      "source": [
        "df['split'] = df['energy'].isna().apply(lambda x: 'test' if x == True else 'train')"
      ],
      "metadata": {
        "id": "TD24ulQVunBr"
      },
      "execution_count": null,
      "outputs": []
    },
    {
      "cell_type": "code",
      "source": [
        "ss_df.shape"
      ],
      "metadata": {
        "id": "R7iyhf2XtmfV"
      },
      "execution_count": null,
      "outputs": []
    },
    {
      "cell_type": "code",
      "source": [
        "ec_df.shape"
      ],
      "metadata": {
        "id": "K6flfrp3txu5"
      },
      "execution_count": null,
      "outputs": []
    },
    {
      "cell_type": "markdown",
      "source": [
        "## EDA"
      ],
      "metadata": {
        "id": "KLWKDpKjohrN"
      }
    },
    {
      "cell_type": "code",
      "source": [
        "df['energy'].describe()"
      ],
      "metadata": {
        "id": "JRZmpMQxnrnM"
      },
      "execution_count": null,
      "outputs": []
    },
    {
      "cell_type": "code",
      "source": [
        "\n",
        "sns.set(style=\"whitegrid\")\n",
        "plt.figure(figsize=(15, 5))\n",
        "sns.histplot(df['energy'], bins=30, kde=True)\n",
        "plt.show()"
      ],
      "metadata": {
        "id": "AJ8p_s7CucQj"
      },
      "execution_count": null,
      "outputs": []
    },
    {
      "cell_type": "code",
      "source": [
        "plt.figure(figsize=(15, 5))\n",
        "df['energy'].hist()\n",
        "plt.show()"
      ],
      "metadata": {
        "id": "gGUGQyLkokqY"
      },
      "execution_count": null,
      "outputs": []
    },
    {
      "cell_type": "code",
      "source": [
        "plt.figure(figsize=(15, 5))\n",
        "plt.hist(df['energy'], bins=30, edgecolor='k', alpha=0.7)\n",
        "plt.xlabel('Energy')\n",
        "plt.ylabel('Frequency')\n",
        "plt.title('Energy Histogram')\n",
        "plt.grid(axis='y')\n",
        "plt.show()"
      ],
      "metadata": {
        "id": "Zc5BQ9CAutVD"
      },
      "execution_count": null,
      "outputs": []
    },
    {
      "cell_type": "code",
      "source": [
        "plt.figure(figsize=(15, 5))\n",
        "sns.histplot(df['energy'])\n",
        "plt.show()"
      ],
      "metadata": {
        "id": "aNTJcvR3oqDg"
      },
      "execution_count": null,
      "outputs": []
    },
    {
      "cell_type": "code",
      "source": [
        "plt.figure(figsize=(20, 5))\n",
        "plt.plot(df['time'], df['energy'], color='b', marker='o', linestyle='-', linewidth=2, markersize=5)\n",
        "plt.xlabel('Time')\n",
        "plt.ylabel('Energy')\n",
        "plt.title('Energy over Time')\n",
        "plt.grid(True)\n",
        "plt.show()"
      ],
      "metadata": {
        "id": "qCaRmr62u5zz"
      },
      "execution_count": null,
      "outputs": []
    },
    {
      "cell_type": "code",
      "source": [
        "plt.figure(figsize=(20, 5))\n",
        "sns.lineplot(data=df, x='time', y='energy')\n",
        "plt.show()"
      ],
      "metadata": {
        "id": "mJqHauPQovJw"
      },
      "execution_count": null,
      "outputs": []
    },
    {
      "cell_type": "code",
      "source": [
        "plt.figure(figsize=(20, 5))\n",
        "sns.lineplot(data=df, x='time', y='energy', hue='rutype')\n",
        "plt.show()"
      ],
      "metadata": {
        "id": "rMGHJtFeo0bT"
      },
      "execution_count": null,
      "outputs": []
    },
    {
      "cell_type": "code",
      "source": [
        "unique_rutypes = df['rutype'].unique()\n",
        "\n",
        "plt.figure(figsize=(20, 5))\n",
        "\n",
        "# Loop through each unique 'rutype' and plot a separate line for each\n",
        "for rutype in unique_rutypes:\n",
        "    subset_df = df[df['rutype'] == rutype]\n",
        "    plt.plot(subset_df['time'], subset_df['energy'], marker='o', linestyle='-', linewidth=2, markersize=5, label=rutype)\n",
        "\n",
        "# Setting the labels and title\n",
        "plt.xlabel('Time')\n",
        "plt.ylabel('Energy')\n",
        "plt.title('Energy over Time')\n",
        "\n",
        "# Adding a legend to indicate which line corresponds to which 'rutype'\n",
        "plt.legend(title='RuType', title_fontsize='13', loc='upper left')\n",
        "\n",
        "# Displaying the grid\n",
        "plt.grid(True)\n",
        "\n",
        "# Displaying the plot\n",
        "plt.show()"
      ],
      "metadata": {
        "id": "xSC-yrZZvOR5"
      },
      "execution_count": null,
      "outputs": []
    },
    {
      "cell_type": "code",
      "source": [
        "plt.figure(figsize=(20, 5))\n",
        "sns.lineplot(data=df, x='time', y='energy', hue='mode')\n",
        "plt.show()"
      ],
      "metadata": {
        "id": "4PR-FK2OpHBE"
      },
      "execution_count": null,
      "outputs": []
    },
    {
      "cell_type": "code",
      "source": [
        "unique_modes = df['mode'].unique()\n",
        "\n",
        "plt.figure(figsize=(20, 5))\n",
        "\n",
        "# Loop through each unique 'mode' and plot a separate line for each\n",
        "for mode in unique_modes:\n",
        "    subset_df = df[df['mode'] == mode]\n",
        "    plt.plot(subset_df['time'], subset_df['energy'], marker='o', linestyle='-', linewidth=2, markersize=5, label=mode)\n",
        "\n",
        "# Setting the labels and title\n",
        "plt.xlabel('Time')\n",
        "plt.ylabel('Energy')\n",
        "plt.title('Energy over Time based on Modes')\n",
        "\n",
        "# Adding a legend to indicate which line corresponds to which 'mode'\n",
        "plt.legend(title='Mode', title_fontsize='13', loc='upper left')\n",
        "\n",
        "# Displaying the grid\n",
        "plt.grid(True)\n",
        "\n",
        "# Displaying the plot\n",
        "plt.show()"
      ],
      "metadata": {
        "id": "nVaGOQpRvcQK"
      },
      "execution_count": null,
      "outputs": []
    },
    {
      "cell_type": "code",
      "source": [
        "plt.figure(figsize=(20, 3))\n",
        "sns.lineplot(data=df, x='time', y='energy', hue='antennas_cell0')\n",
        "plt.show()\n",
        "\n",
        "plt.figure(figsize=(20, 3))\n",
        "sns.lineplot(data=df, x='time', y='energy', hue='antennas_cell1')\n",
        "plt.show()\n",
        "\n",
        "plt.figure(figsize=(20, 3))\n",
        "sns.lineplot(data=df, x='time', y='energy', hue='antennas_cell2')\n",
        "plt.show()\n",
        "\n",
        "plt.figure(figsize=(20, 3))\n",
        "sns.lineplot(data=df, x='time', y='energy', hue='antennas_cell3')\n",
        "plt.show()"
      ],
      "metadata": {
        "id": "6qpsNfcxo9_s"
      },
      "execution_count": null,
      "outputs": []
    },
    {
      "cell_type": "code",
      "source": [
        "antenna_cols = ['antennas_cell0', 'antennas_cell1', 'antennas_cell2', 'antennas_cell3']\n",
        "\n",
        "for antenna_col in antenna_cols:\n",
        "    # Get unique values in the current antenna column\n",
        "    unique_antennas = df[antenna_col].unique()\n",
        "\n",
        "    plt.figure(figsize=(20, 3))\n",
        "\n",
        "    for antenna in unique_antennas:\n",
        "        # Create a subset of the dataframe where the current antenna column equals the current antenna value\n",
        "        subset_df = df[df[antenna_col] == antenna]\n",
        "\n",
        "        # Plot the subset data\n",
        "        plt.plot(subset_df['time'], subset_df['energy'], marker='', linestyle='-', linewidth=2, label=antenna)\n",
        "\n",
        "    # Set labels and title\n",
        "    plt.xlabel('Time')\n",
        "    plt.ylabel('Energy')\n",
        "    plt.title(f'Energy over Time based on {antenna_col}')\n",
        "\n",
        "    # Add a legend to indicate which line corresponds to which antenna value\n",
        "    plt.legend(title=antenna_col, title_fontsize='13', loc='upper left')\n",
        "\n",
        "    # Display the grid\n",
        "    plt.grid(True)\n",
        "\n",
        "    # Display the plot\n",
        "    plt.show()"
      ],
      "metadata": {
        "id": "UiEDLqyNvpjY"
      },
      "execution_count": null,
      "outputs": []
    },
    {
      "cell_type": "code",
      "source": [
        "plt.figure(figsize=(20, 3))\n",
        "sns.lineplot(data=df, x='time', y='energy', hue='bandwidth_cell0')\n",
        "plt.show()\n",
        "\n",
        "plt.figure(figsize=(20, 3))\n",
        "sns.lineplot(data=df, x='time', y='energy', hue='bandwidth_cell1')\n",
        "plt.show()\n",
        "\n",
        "plt.figure(figsize=(20, 3))\n",
        "sns.lineplot(data=df, x='time', y='energy', hue='bandwidth_cell2')\n",
        "plt.show()\n",
        "\n",
        "plt.figure(figsize=(20, 3))\n",
        "sns.lineplot(data=df, x='time', y='energy', hue='bandwidth_cell3')\n",
        "plt.show()"
      ],
      "metadata": {
        "id": "wofvHnnMrj_l"
      },
      "execution_count": null,
      "outputs": []
    },
    {
      "cell_type": "code",
      "source": [
        "\n",
        "\n",
        "# List of bandwidth columns\n",
        "bandwidth_cols = ['bandwidth_cell0', 'bandwidth_cell1', 'bandwidth_cell2', 'bandwidth_cell3']\n",
        "\n",
        "for bandwidth_col in bandwidth_cols:\n",
        "    plt.figure(figsize=(20, 3))\n",
        "    sns.lineplot(data=df, x='time', y='energy', hue=bandwidth_col)\n",
        "    plt.show()"
      ],
      "metadata": {
        "id": "COyqZWpZvvUV"
      },
      "execution_count": null,
      "outputs": []
    },
    {
      "cell_type": "code",
      "source": [
        "for fe in ['rutype', 'mode', 'bandwidth_cell0', 'bandwidth_cell1', 'antennas_cell0', 'antennas_cell1']:\n",
        "    plt.figure(figsize=(15, 5))\n",
        "    sns.violinplot(data=df, x=fe, y='energy')\n",
        "    plt.show()"
      ],
      "metadata": {
        "id": "bPEswC_Gs9eO"
      },
      "execution_count": null,
      "outputs": []
    },
    {
      "cell_type": "code",
      "source": [
        "def plot_cat_train_test_dist(df, fe_name, hue='split'):\n",
        "\n",
        "    # Create a figure with two subplots\n",
        "    fig, axes = plt.subplots(1, 3, figsize=(20, 5))\n",
        "\n",
        "    # Plot the histogram plot on the first subplot\n",
        "    sns.histplot(data=df[df['split'] == 'train'], ax=axes[0], x=fe_name, discrete=True)\n",
        "    axes[0].set_title('Train Histogram Plot')\n",
        "\n",
        "    # Plot the histogram plot on the second subplot\n",
        "    sns.histplot(data=df[df['split'] == 'test'], ax=axes[1], x=fe_name, discrete=True)\n",
        "    axes[1].set_title('Test Histogram Plot')\n",
        "\n",
        "    # Plot the combined histogram plot on the third subplot\n",
        "    sns.histplot(data=df, ax=axes[2], x=fe_name, hue=hue, discrete=True)\n",
        "    axes[2].set_title('Train & Test Histogram Plot')\n",
        "\n",
        "    plt.show()"
      ],
      "metadata": {
        "id": "CXj-nAWAsofI"
      },
      "execution_count": null,
      "outputs": []
    },
    {
      "cell_type": "code",
      "source": [
        "feature_params_list = [\n",
        "    {'fe_name': 'rutype', 'hue': 'split'},\n",
        "    {'fe_name': 'mode', 'hue': 'split'},\n",
        "    {'fe_name': 'bandwidth_cell0', 'hue': 'split'},\n",
        "    {'fe_name': 'bandwidth_cell1', 'hue': 'split'},\n",
        "    {'fe_name': 'antennas_cell0', 'hue': 'split'},\n",
        "    {'fe_name': 'antennas_cell1', 'hue': 'split'}\n",
        "]\n",
        "\n",
        "for params in feature_params_list:\n",
        "    plot_cat_train_test_dist(df=df, **params)"
      ],
      "metadata": {
        "id": "L_QpSdqbsqdU"
      },
      "execution_count": null,
      "outputs": []
    },
    {
      "cell_type": "code",
      "source": [
        "pivot_table_result = df.pivot_table(index='split', columns='rutype', aggfunc='size', fill_value=0)\n",
        "print(pivot_table_result)\n"
      ],
      "metadata": {
        "id": "4-qlZQmBwG7B"
      },
      "execution_count": null,
      "outputs": []
    },
    {
      "cell_type": "code",
      "source": [
        "plt.figure(figsize=(20, 5))\n",
        "\n",
        "cell_loads = ['load_cell0', 'load_cell1', 'load_cell2', 'load_cell3']\n",
        "for load in cell_loads:\n",
        "    sns.scatterplot(data=df[df['split'] == 'train'], x=load, y='energy', label=load)\n",
        "\n",
        "plt.legend()\n",
        "plt.show()\n"
      ],
      "metadata": {
        "id": "-ndKyS2uwvjV"
      },
      "execution_count": null,
      "outputs": []
    },
    {
      "cell_type": "code",
      "source": [
        "plt.figure(figsize=(20, 5))\n",
        "\n",
        "txpower_cells = ['txpower_cell0', 'txpower_cell1', 'txpower_cell2', 'txpower_cell3']\n",
        "for txpower in txpower_cells:\n",
        "    sns.scatterplot(data=df[df['split'] == 'train'], x=txpower, y='energy', label=txpower)\n",
        "\n",
        "plt.legend()\n",
        "plt.show()\n"
      ],
      "metadata": {
        "id": "mONo3RvdzPR0"
      },
      "execution_count": null,
      "outputs": []
    },
    {
      "cell_type": "markdown",
      "source": [
        "## Modeling"
      ],
      "metadata": {
        "id": "dBlg7woWDURv"
      }
    },
    {
      "cell_type": "code",
      "source": [
        "train_data = df[df['split'] =='train']\n",
        "test_data = df[df['split'] =='test']\n",
        "\n",
        "train_data.shape, test_data.shape"
      ],
      "metadata": {
        "id": "_9FTXU1AyME8"
      },
      "execution_count": null,
      "outputs": []
    },
    {
      "cell_type": "code",
      "source": [
        "def feature_enginning(train_df, valid_df, test_df):\n",
        "\n",
        "    train_df['hour'] = train_df['time'].dt.hour\n",
        "    valid_df['hour'] = valid_df['time'].dt.hour\n",
        "    test_df['hour'] = test_df['time'].dt.hour\n",
        "\n",
        "    # target_encoder = TargetEncoder(min_samples_leaf=1)\n",
        "    # train_df[['te_rutype', 'te_mode', 'te_hour', 'te_bs']] = target_encoder.fit_transform(X=train_df[['rutype', 'mode', 'hour', 'bs']], y=train_df['energy'])\n",
        "    # valid_df[['te_rutype', 'te_mode', 'te_hour', 'te_bs']] = target_encoder.transform(X=valid_df[['rutype', 'mode', 'hour', 'bs']])\n",
        "    # test_df[['te_rutype', 'te_mode', 'te_hour', 'te_bs']] = target_encoder.transform(X=test_df[['rutype', 'mode', 'hour', 'bs']])\n",
        "\n",
        "    train_df['split'] = 'train'\n",
        "    valid_df['split'] = 'valid'\n",
        "    test_df['split'] = 'test'\n",
        "\n",
        "    df = pd.concat([train_df, valid_df, test_df])\n",
        "    df['bs_en'] = df['bs'].apply(lambda x: int(x.strip('B_')))\n",
        "\n",
        "    # df['rutype'] = df['rutype'].apply(lambda x: int(x.strip('Type')))\n",
        "    # df['mode'] = df['mode'].apply(lambda x: int(x.strip('Mode')))\n",
        "\n",
        "    df = pd.get_dummies(df, columns=['rutype',  'mode', 'hour'])\n",
        "\n",
        "    df.sort_values(['time', 'bs'], inplace=True)\n",
        "    # for fe in ['antennas_cell0', 'antennas_cell1', 'antennas_cell2', 'antennas_cell3', 'load_cell0', 'load_cell1',\n",
        "    #    'load_cell2', 'load_cell3', 'txpower_cell0', 'txpower_cell1', 'txpower_cell2', 'txpower_cell3']:\n",
        "    #     for r in [3, 5, 8, 10, 15]:\n",
        "    #         df[f'r{r}_mean_{fe}'] = df.groupby(['bs'])[f'{fe}'].transform(lambda x: x.rolling(r, min_periods=1).mean())\n",
        "    #         df[f'r{r}_std_{fe}'] = df.groupby(['bs'])[f'{fe}'].transform(lambda x: x.rolling(r, min_periods=1).std())\n",
        "    #         df[f'r{r}_skew_{fe}'] = df.groupby(['bs'])[f'{fe}'].transform(lambda x: x.rolling(r, min_periods=1).skew())\n",
        "    #         df[f'r{r}_max_{fe}'] = df.groupby(['bs'])[f'{fe}'].transform(lambda x: x.rolling(r, min_periods=1).max())\n",
        "\n",
        "    # Target rolling\n",
        "    # for fe in ['energy']:\n",
        "    #     for r in [3, 5, 8, 10, 15]:\n",
        "    #         df[f'r{r}_mean_{fe}'] = df.groupby(['bs'])[f'{fe}'].transform(lambda x: x.rolling(r, min_periods=1).mean().shift(1))\n",
        "    #         df[f'r{r}_std_{fe}'] = df.groupby(['bs'])[f'{fe}'].transform(lambda x: x.rolling(r, min_periods=1).std().shift(1))\n",
        "    #         df[f'r{r}_skew_{fe}'] = df.groupby(['bs'])[f'{fe}'].transform(lambda x: x.rolling(r, min_periods=1).skew().shift(1))\n",
        "    #         df[f'r{r}_max_{fe}'] = df.groupby(['bs'])[f'{fe}'].transform(lambda x: x.rolling(r, min_periods=1).max().shift(1))\n",
        "\n",
        "\n",
        "    train_df = df[df['split'] =='train']\n",
        "    valid_df = df[df['split'] =='valid']\n",
        "    test_df = df[df['split'] =='test']\n",
        "\n",
        "    return train_df, valid_df, test_df"
      ],
      "metadata": {
        "id": "MCr4hbzwxcWZ"
      },
      "execution_count": null,
      "outputs": []
    },
    {
      "cell_type": "code",
      "source": [
        "target_col = 'energy'\n",
        "drop_cols = ['time', 'bs', 'split', target_col]"
      ],
      "metadata": {
        "id": "PgCPcgRHyNti"
      },
      "execution_count": null,
      "outputs": []
    },
    {
      "cell_type": "code",
      "source": [
        "kf = model_selection.KFold(n_splits=5)\n",
        "kf = kf.split(X=train_data)\n",
        "\n",
        "oof_valid_preds = np.zeros(train_data.shape[0], )\n",
        "test_preds_list = []\n",
        "\n",
        "for i, (train_idx, valid_idx) in enumerate(kf):\n",
        "\n",
        "    train_df = train_data.iloc[train_idx]\n",
        "    valid_df = train_data.iloc[valid_idx]\n",
        "    test_df = test_data.copy()\n",
        "\n",
        "    train_df, valid_df, test_df = feature_enginning(train_df=train_df, valid_df=valid_df, test_df=test_df)\n",
        "    train_cols = [col for col in train_df.columns if col not in drop_cols]\n",
        "\n",
        "    X_train, y_train = train_df[train_cols], train_df[target_col]\n",
        "    X_valid, y_valid = valid_df[train_cols], valid_df[target_col]\n",
        "    X_test = test_df[train_cols]\n",
        "\n",
        "    params = {\n",
        "        'loss_function': 'MAE',\n",
        "        'iterations': 10000,\n",
        "        'depth': 6,\n",
        "        'learning_rate': 0.1,\n",
        "        'thread_count': -1,\n",
        "        'verbose': 100,\n",
        "        'task_type': 'CPU'\n",
        "    }\n",
        "\n",
        "    model = CatBoostRegressor(**params)\n",
        "\n",
        "    train_pool = Pool(data=X_train, label=y_train)\n",
        "    val_pool = Pool(data=X_valid, label=y_valid)\n",
        "\n",
        "    model.fit(train_pool, eval_set=val_pool, early_stopping_rounds=100)\n",
        "\n",
        "    valid_preds = model.predict(X_valid)\n",
        "    test_preds = model.predict(X_test)\n",
        "\n",
        "    val_score = metrics.mean_absolute_error(y_valid, valid_preds)\n",
        "    oof_valid_preds[valid_idx] = valid_preds\n",
        "    test_preds_list.append(test_preds)\n",
        "\n",
        "    print(\"=*\"*50)\n",
        "    print(f\"Fold : {i}\")\n",
        "    print(f\"Valid score : \", val_score)\n",
        "\n",
        "oof_score = metrics.mean_absolute_error(train_data[target_col], oof_valid_preds)\n",
        "print(\"_-*\"*50)\n",
        "print(f\"OOF score : \", oof_score)"
      ],
      "metadata": {
        "id": "78QLUGlMyTbg"
      },
      "execution_count": null,
      "outputs": []
    },
    {
      "cell_type": "code",
      "source": [
        "test_preds_list"
      ],
      "metadata": {
        "id": "BLgFbIcqj4tX"
      },
      "execution_count": null,
      "outputs": []
    },
    {
      "cell_type": "code",
      "source": [
        "test_preds_mean = np.mean(test_preds_list, axis=0)"
      ],
      "metadata": {
        "id": "m_FkRiQ_j0wZ"
      },
      "execution_count": null,
      "outputs": []
    },
    {
      "cell_type": "code",
      "source": [
        "test_preds_mean"
      ],
      "metadata": {
        "id": "R5p7SCQMjs77"
      },
      "execution_count": null,
      "outputs": []
    },
    {
      "cell_type": "code",
      "source": [
        "test_preds_mean.shape"
      ],
      "metadata": {
        "id": "tAvuDGXLj8jD"
      },
      "execution_count": null,
      "outputs": []
    },
    {
      "cell_type": "code",
      "source": [
        "test_data.shape"
      ],
      "metadata": {
        "id": "icQ-zhyJj_PM"
      },
      "execution_count": null,
      "outputs": []
    },
    {
      "cell_type": "code",
      "source": [
        "test_data['Energy'] = test_preds_mean"
      ],
      "metadata": {
        "id": "Sh6WuOTjrFyg"
      },
      "execution_count": null,
      "outputs": []
    },
    {
      "cell_type": "code",
      "source": [
        "test_data['Energy'].hist()"
      ],
      "metadata": {
        "id": "uaw_tVcyAtdK"
      },
      "execution_count": null,
      "outputs": []
    },
    {
      "cell_type": "code",
      "source": [
        "ss_df.head()"
      ],
      "metadata": {
        "id": "Cks25RoJkC6v"
      },
      "execution_count": null,
      "outputs": []
    },
    {
      "cell_type": "code",
      "source": [
        "test_data['ID'] = test_data['time'].astype('str') + '_' + test_data['bs']"
      ],
      "metadata": {
        "id": "2Pgncnlx_HdE"
      },
      "execution_count": null,
      "outputs": []
    },
    {
      "cell_type": "code",
      "source": [
        "test_data[['ID', 'Energy']]"
      ],
      "metadata": {
        "id": "W6Qf4b5nkJwH"
      },
      "execution_count": null,
      "outputs": []
    },
    {
      "cell_type": "code",
      "source": [
        "ss_df = ss_df[['ID']]\n",
        "ss_df = ss_df.merge(test_data[['ID', 'Energy']], on='ID', how='left')"
      ],
      "metadata": {
        "id": "X-gY9LU9_K7N"
      },
      "execution_count": null,
      "outputs": []
    },
    {
      "cell_type": "code",
      "source": [
        "ss_df.head()"
      ],
      "metadata": {
        "id": "j1bLnyqgpU9u"
      },
      "execution_count": null,
      "outputs": []
    },
    {
      "cell_type": "code",
      "source": [
        "ss_df.to_csv(\"base_model_submission.csv\", index=False)"
      ],
      "metadata": {
        "id": "m26p0DkK_NK_"
      },
      "execution_count": null,
      "outputs": []
    },
    {
      "cell_type": "code",
      "source": [],
      "metadata": {
        "id": "wiJ4Yz9Z_QPQ"
      },
      "execution_count": null,
      "outputs": []
    }
  ]
}